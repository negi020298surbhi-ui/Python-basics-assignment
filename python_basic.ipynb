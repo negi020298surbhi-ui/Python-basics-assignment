{
  "nbformat": 4,
  "nbformat_minor": 0,
  "metadata": {
    "colab": {
      "provenance": []
    },
    "kernelspec": {
      "name": "python3",
      "display_name": "Python 3"
    },
    "language_info": {
      "name": "python"
    }
  },
  "cells": [
    {
      "cell_type": "markdown",
      "source": [
        "#Python basics\n"
      ],
      "metadata": {
        "id": "rva2qVUg6P6i"
      }
    },
    {
      "cell_type": "markdown",
      "source": [
        "1. What is Python, and why is it popular?\n",
        " - Python is a programming language used for giving instructions to the machine.\n",
        " - it is popular due to its easy to understand, simplified, versatile factor. Also python is an open source.\n",
        "2. What is an interpreter in Python?\n",
        " - Interpreter translates and exexutes code, line by line.\n",
        "3. What are pre-defined keywords in Python?\n",
        " - pre-defined keywords in python are some reserve words, which cannot be used as an identifier.\n",
        "4. Can keywords be used as variable name?\n",
        " - No, keywords cannot be used as variable name.\n",
        "5. What is mutability in Python?\n",
        " - Objects which can be modified, are considered mutable in Python.\n",
        " - Mutability effects how objects are stored and manuputaled in memory, impacting performace, memory usage, and concurrency in python program.\n",
        "6.  Why are lists mutable, but tuples are immutable?\n",
        " - Lists are considered mutable because we can make changes in its contents after creation by accessing the index number. Whereas, the changes cannot be done in the Tuples, once its created. and if we try to do so by accessing the index no. it will simply throw an error.\n",
        "7. What is the difference between “==” and “is” operators in Python?\n",
        " - in one hand \"==' is used for comparing equality of two values, On the other hand \"is\" means two variables are refering the same value.\n",
        "8. What are logical operators in Python?\n",
        " - (and, or, not)  \n",
        "9. What is type casting in Python?\n",
        " - The process of converting a variable from one data type to another, either automatically or manually.  \n",
        "10. What is the difference between implicit and explicit type casting?\n",
        " - Implicit type casting is when the programming language automatically converts a value from one data type to another. on the other hand,Explicit type casting is when the programmer manually specifies the conversion from one data type to another.\n",
        " 11.  What is the purpose of conditional statements in Python?\n",
        "  - to help your program make decisions.They let your code choose what to do next depending on certain conditions. Think of it like asking a question: “Is it raining?” If the answer is yes, you take an umbrella; if no, you go outside without one. just like how you make choices in real life based on what’s happening.\n",
        " 12. How does the elif statement work?\n",
        "  -It helps your code choose between more than two options. when 'if' statement does not seem to be true, then the 'elif (else+if)' statement is used. and if both these statements seem to be false, then the 'else' statement is used.\n",
        " 13.What is the difference between for and while loops\n",
        "  - 'for loop' is used when we know exactly how many times we want a certain code to run. While 'while loop' is used when we want to repeat a code until the condition becomes false.\n",
        " 14.Describe a scenario where a while loop is more suitable than a for loop.\n",
        "  - i have a dispenser, in which i have 1 red ball and rest are blue. here i want the dispenser to stop when it dispenses the red ball but i have no idea when the red ball will be out of it. so, here i can use the while loop untill the condition of red ball happens.\n"
      ],
      "metadata": {
        "id": "Mtr_y4C_6hca"
      }
    },
    {
      "cell_type": "code",
      "source": [
        "#1 Write a Python program to print \"Hello, World!\n",
        "print(\"Hello, world\")"
      ],
      "metadata": {
        "colab": {
          "base_uri": "https://localhost:8080/"
        },
        "id": "MH9FzaUhFJOe",
        "outputId": "bb4f158a-3456-4b3e-fa70-e9481b37be1b"
      },
      "execution_count": 1,
      "outputs": [
        {
          "output_type": "stream",
          "name": "stdout",
          "text": [
            "Hello, world\n"
          ]
        }
      ]
    },
    {
      "cell_type": "code",
      "source": [
        "#2 Write a Python program that displays your name and age\n",
        "name=\"Surabhi negi\"\n",
        "age= \"my age is 29\"\n",
        "print(name,\"and\",age)"
      ],
      "metadata": {
        "colab": {
          "base_uri": "https://localhost:8080/"
        },
        "id": "ZO2tx3O2Fadm",
        "outputId": "9c295394-10f0-4e10-9dce-9b8da6069db4"
      },
      "execution_count": 6,
      "outputs": [
        {
          "output_type": "stream",
          "name": "stdout",
          "text": [
            "Surabhi negi and my age is 29\n"
          ]
        }
      ]
    },
    {
      "cell_type": "code",
      "source": [
        "#3 Write code to print all the pre-defined keywords in Python using the keyword library.\n",
        "import keyword\n",
        "print(keyword.kwlist)"
      ],
      "metadata": {
        "colab": {
          "base_uri": "https://localhost:8080/"
        },
        "id": "ZEwXvuUBGClm",
        "outputId": "513cfde2-362c-4d81-eda5-6f161883f37f"
      },
      "execution_count": 8,
      "outputs": [
        {
          "output_type": "stream",
          "name": "stdout",
          "text": [
            "['False', 'None', 'True', 'and', 'as', 'assert', 'async', 'await', 'break', 'class', 'continue', 'def', 'del', 'elif', 'else', 'except', 'finally', 'for', 'from', 'global', 'if', 'import', 'in', 'is', 'lambda', 'nonlocal', 'not', 'or', 'pass', 'raise', 'return', 'try', 'while', 'with', 'yield']\n"
          ]
        }
      ]
    },
    {
      "cell_type": "code",
      "source": [
        "#4 Write a program that checks if a given word is a Python keyword.\n",
        "a=\"False\"\n",
        "print(keyword.iskeyword(a))"
      ],
      "metadata": {
        "colab": {
          "base_uri": "https://localhost:8080/"
        },
        "id": "KP-5JF22Gh3m",
        "outputId": "b2b095e5-5643-48fa-fe9e-ab63facacb82"
      },
      "execution_count": 32,
      "outputs": [
        {
          "output_type": "stream",
          "name": "stdout",
          "text": [
            "True\n"
          ]
        }
      ]
    },
    {
      "cell_type": "code",
      "source": [
        "#5 5. Create a list and tuple in Python, and demonstrate how attempting to change an element works differently\n",
        "for each."
      ],
      "metadata": {
        "id": "FYEdGxTDIGos"
      },
      "execution_count": null,
      "outputs": []
    },
    {
      "cell_type": "code",
      "source": [
        " #6. Write a function to demonstrate the behavior of mutable and immutable arguments."
      ],
      "metadata": {
        "id": "ijvDhqIjIGY8"
      },
      "execution_count": null,
      "outputs": []
    },
    {
      "cell_type": "code",
      "source": [
        "#7. Write a program that performs basic arithmetic operations on two user-input numbers.\n",
        "a=int(input(\"enter the first number:\"))\n",
        "b=int(input(\"enter the second number:\"))\n",
        "c=a+b\n",
        "print(c)"
      ],
      "metadata": {
        "colab": {
          "base_uri": "https://localhost:8080/"
        },
        "id": "jk3JVtfjG5ug",
        "outputId": "7cbbcd9c-14a4-47a8-8b84-bf55e283f2c4"
      },
      "execution_count": 14,
      "outputs": [
        {
          "output_type": "stream",
          "name": "stdout",
          "text": [
            "enter the first number:24\n",
            "enter the second number:33\n",
            "57\n"
          ]
        }
      ]
    },
    {
      "cell_type": "code",
      "source": [
        "# 8. Write a program to demonstrate the use of logical operators.\n",
        "a=24\n",
        "print((a>20) and (a<35)) #true, as both the conditons are true\n",
        "print((a<21)or(a>24)) #false, as on of these is false\n",
        "print(not(a>20))  #reverse condition\n"
      ],
      "metadata": {
        "colab": {
          "base_uri": "https://localhost:8080/"
        },
        "id": "8chKMw54INZ8",
        "outputId": "1386476f-0fb1-441f-97fb-893999cca23e"
      },
      "execution_count": 17,
      "outputs": [
        {
          "output_type": "stream",
          "name": "stdout",
          "text": [
            "True\n",
            "False\n",
            "False\n"
          ]
        }
      ]
    },
    {
      "cell_type": "code",
      "source": [
        "#9. Write a Python program to convert user input from string to integer, float, and boolean types.\n",
        "x=str(input(\"enter the name:\"))\n",
        "y=int(input(\"enter the age:\"))\n",
        "z=float(input(\"enter the salary:\"))\n",
        "a=bool(input(\"True\"))\n",
        "print(x,y,z,a)"
      ],
      "metadata": {
        "colab": {
          "base_uri": "https://localhost:8080/"
        },
        "id": "9Tadokj7JVPV",
        "outputId": "b8812cb8-7c7a-4143-cb02-b4cc80bf1512"
      },
      "execution_count": 21,
      "outputs": [
        {
          "output_type": "stream",
          "name": "stdout",
          "text": [
            "enter the name:surabhi\n",
            "enter the age:29\n",
            "enter the salary:30000\n",
            "TrueTrue\n",
            "surabhi 29 30000.0 True\n"
          ]
        }
      ]
    },
    {
      "cell_type": "code",
      "source": [
        "# 10. Write code to demonstrate type casting with list elements.\n",
        "# Original list with string numbers\n",
        "str_list = ['1', '2', '3', '4', '5']\n",
        "\n",
        "# Convert each element from string to integer using list comprehension\n",
        "int_list = [int(item) for item in str_list]\n",
        "\n",
        "print(\"Original list (strings):\", str_list)\n",
        "print(\"After type casting to integers:\", int_list)\n",
        "print(\"Sum of elements in int_list:\", sum(int_list))"
      ],
      "metadata": {
        "colab": {
          "base_uri": "https://localhost:8080/"
        },
        "id": "4OZh7mUBKYCc",
        "outputId": "67a3cfb4-8164-47d6-c9c8-231d7e1808b7"
      },
      "execution_count": 22,
      "outputs": [
        {
          "output_type": "stream",
          "name": "stdout",
          "text": [
            "Original list (strings): ['1', '2', '3', '4', '5']\n",
            "After type casting to integers: [1, 2, 3, 4, 5]\n",
            "Sum of elements in int_list: 15\n"
          ]
        }
      ]
    },
    {
      "cell_type": "code",
      "source": [
        "#11. Write a program that checks if a number is positive, negative, or zero.\n",
        "a=float(input(\"enter the number:\"))\n",
        "\n",
        "if a>0:\n",
        "  print(\"positive\")\n",
        "elif a<0:\n",
        "  print(\"negative\")\n",
        "else:\n",
        "  print(\"zero\")"
      ],
      "metadata": {
        "colab": {
          "base_uri": "https://localhost:8080/"
        },
        "id": "TvbNh6RlK2nz",
        "outputId": "32691f75-286a-4b03-f88a-386e5ccf7a74"
      },
      "execution_count": 28,
      "outputs": [
        {
          "output_type": "stream",
          "name": "stdout",
          "text": [
            "enter the number:2\n",
            "positive\n"
          ]
        }
      ]
    },
    {
      "cell_type": "code",
      "source": [
        "#12. Write a for loop to print numbers from 1 to 10.\n",
        "x=1\n",
        "while x<=10:\n",
        "  print(x)\n",
        "  x=x+1\n",
        "\n"
      ],
      "metadata": {
        "colab": {
          "base_uri": "https://localhost:8080/"
        },
        "id": "ia-xwHNtL0vD",
        "outputId": "cfca6a59-5106-4a3f-db80-5a3de5fe6c44"
      },
      "execution_count": 30,
      "outputs": [
        {
          "output_type": "stream",
          "name": "stdout",
          "text": [
            "1\n",
            "2\n",
            "3\n",
            "4\n",
            "5\n",
            "6\n",
            "7\n",
            "8\n",
            "9\n",
            "10\n"
          ]
        }
      ]
    },
    {
      "cell_type": "code",
      "source": [
        "#13. Write a Python program to find the sum of all even numbers between 1 and 50.\n",
        "# Initialize sum to 0\n",
        "total_sum = 0\n",
        "\n",
        "# Loop through numbers from 1 to 50\n",
        "for number in range(1, 51):\n",
        "    # Check if the number is even\n",
        "    if number % 2 == 0:\n",
        "        total_sum += number\n",
        "\n",
        "print(\"Sum of all even numbers between 1 and 50 is:\", total_sum)"
      ],
      "metadata": {
        "colab": {
          "base_uri": "https://localhost:8080/"
        },
        "id": "995a0DR7MlFy",
        "outputId": "8b89177a-df0e-45b1-f8cf-3c7687c52a22"
      },
      "execution_count": 31,
      "outputs": [
        {
          "output_type": "stream",
          "name": "stdout",
          "text": [
            "Sum of all even numbers between 1 and 50 is: 650\n"
          ]
        }
      ]
    },
    {
      "cell_type": "code",
      "source": [
        "# 14. Write a program to reverse a string using a while loop."
      ],
      "metadata": {
        "id": "Lvp2RgE4NBR6"
      },
      "execution_count": null,
      "outputs": []
    },
    {
      "cell_type": "code",
      "source": [
        " #15. Write a Python program to calculate the factorial of a number provided by the user using a while loop.\n",
        " # Get input from the user\n",
        "n = int(input(\"Enter a positive integer: \"))\n",
        "factorial = 1\n",
        "while n > 1: # Use while loop to calculate factorial\n",
        "    factorial *= n\n",
        "    n -= 1\n",
        "\n",
        "print(\"Factorial is:\", factorial)"
      ],
      "metadata": {
        "colab": {
          "base_uri": "https://localhost:8080/"
        },
        "id": "l_N3xbDlNcSy",
        "outputId": "b02bed2f-5a88-4199-efff-e400ab541e9a"
      },
      "execution_count": 33,
      "outputs": [
        {
          "output_type": "stream",
          "name": "stdout",
          "text": [
            "Enter a positive integer: 21\n",
            "Factorial is: 51090942171709440000\n"
          ]
        }
      ]
    }
  ]
}